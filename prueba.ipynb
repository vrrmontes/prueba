{
  "nbformat": 4,
  "nbformat_minor": 0,
  "metadata": {
    "colab": {
      "provenance": [],
      "authorship_tag": "ABX9TyPmqcLQ/Jd4UYZ0XNuldXaB"
    },
    "kernelspec": {
      "name": "python3",
      "display_name": "Python 3"
    },
    "language_info": {
      "name": "python"
    }
  },
  "cells": [
    {
      "cell_type": "markdown",
      "source": [
        "# Projectile motion - Problem 1"
      ],
      "metadata": {
        "id": "oi3MwG_c16m_"
      }
    },
    {
      "cell_type": "markdown",
      "source": [
        "\\begin{align}\n",
        "\\nabla \\times \\vec{\\mathbf{B}} -\\, \\frac1c\\, \\frac{\\partial\\vec{\\mathbf{E}}}{\\partial t} & = \\frac{4\\pi}{c}\\vec{\\mathbf{j}} \\\\   \\nabla \\cdot \\vec{\\mathbf{E}} & = 4 \\pi \\rho \\\\\n",
        "\\nabla \\times \\vec{\\mathbf{E}}\\, +\\, \\frac1c\\, \\frac{\\partial\\vec{\\mathbf{B}}}{\\partial t} & = \\vec{\\mathbf{0}} \\\\\n",
        "\\nabla \\cdot \\vec{\\mathbf{B}} & = 0\n",
        "\\end{align}"
      ],
      "metadata": {
        "id": "SzISEH0v1gYI"
      }
    },
    {
      "cell_type": "markdown",
      "source": [
        "<a title=\"OilerLagrangian, CC BY-SA 4.0 &lt;https://creativecommons.org/licenses/by-sa/4.0&gt;, via Wikimedia Commons\" href=\"https://commons.wikimedia.org/wiki/File:Compound_Motion.gif\"><img width=\"256\" alt=\"Compound Motion\" src=\"https://upload.wikimedia.org/wikipedia/commons/8/83/Compound_Motion.gif?20190927192801\"></a>"
      ],
      "metadata": {
        "id": "0MdoVhRM9Am7"
      }
    },
    {
      "cell_type": "code",
      "source": [
        "import ipywidgets as widgets\n",
        "speedSlider = widgets.IntSlider(value=5,min=0,max=15,step=1,description=\"speed(m/s):\")\n",
        "display(speedSlider)"
      ],
      "metadata": {
        "id": "Cov1JueBehxT"
      },
      "execution_count": null,
      "outputs": []
    },
    {
      "cell_type": "code",
      "execution_count": null,
      "metadata": {
        "id": "Q0uKxeTYLAYb"
      },
      "outputs": [],
      "source": [
        "import numpy as np\n",
        "import matplotlib.pyplot as plt\n",
        "from matplotlib.animation import FuncAnimation\n",
        "from IPython.display import HTML\n",
        "\n",
        "fig, ax = plt.subplots()\n",
        "t = np.linspace(0, 3, 40)\n",
        "g = -9.81\n",
        "\n",
        "v = speedSlider.value #5\n",
        "z = g * t**2 / 2 + v * t\n",
        "\n",
        "line = ax.plot(t[0], z[0], label=f'v = {v} m/s')[0]\n",
        "ax.set(xlim=[0, 3], ylim=[-4, 10], xlabel='Time [s]', ylabel='Z [m]')\n",
        "ax.legend()\n",
        "\n",
        "def update(frame):\n",
        "    # for each frame, update the data stored on each artist.\n",
        "    x = t[:frame]\n",
        "    y = z[:frame]\n",
        "    # update the line plot:\n",
        "    line.set_xdata(t[:frame])\n",
        "    line.set_ydata(z[:frame])\n",
        "    return (line)\n",
        "\n",
        "\n",
        "ani = FuncAnimation(fig=fig, func=update, frames=40, interval=30)\n",
        "#plt.show()\n",
        "HTML(ani.to_html5_video())"
      ]
    },
    {
      "cell_type": "code",
      "source": [
        "print(t)\n",
        "print(z)"
      ],
      "metadata": {
        "id": "BUycZ5IX4WBJ"
      },
      "execution_count": null,
      "outputs": []
    },
    {
      "cell_type": "code",
      "source": [
        "# importing matplotlib module\n",
        "from matplotlib import pyplot as plt\n",
        "\n",
        "# x-axis values\n",
        "#x = [5, 2, 9, 4, 7]\n",
        "\n",
        "# Y-axis values\n",
        "#y = [10, 5, 8, 4, 2]\n",
        "\n",
        "# Function to plot\n",
        "plt.plot(t, z) #(x,y) axis\n",
        "\n",
        "# function to show the plot\n",
        "plt.show()\n"
      ],
      "metadata": {
        "id": "_XwaFvN34WZL"
      },
      "execution_count": null,
      "outputs": []
    },
    {
      "cell_type": "code",
      "source": [
        "import matplotlib.pyplot as plt\n",
        "import numpy as np\n",
        "\n",
        "# Fixing random state for reproducibility\n",
        "np.random.seed(19680801)\n",
        "\n",
        "n = 100_000\n",
        "x = np.random.standard_normal(n)\n",
        "y = 2.0 + 3.0 * x + 4.0 * np.random.standard_normal(n)\n",
        "xlim = x.min(), x.max()\n",
        "ylim = y.min(), y.max()\n",
        "\n",
        "fig, (ax0, ax1) = plt.subplots(ncols=2, sharey=True, figsize=(9, 4))\n",
        "\n",
        "hb = ax0.hexbin(x, y, gridsize=50, cmap='inferno')\n",
        "ax0.set(xlim=xlim, ylim=ylim)\n",
        "ax0.set_title(\"Hexagon binning\")\n",
        "cb = fig.colorbar(hb, ax=ax0, label='counts')\n",
        "\n",
        "hb = ax1.hexbin(x, y, gridsize=50, bins='log', cmap='inferno')\n",
        "ax1.set(xlim=xlim, ylim=ylim)\n",
        "ax1.set_title(\"With a log color scale\")\n",
        "cb = fig.colorbar(hb, ax=ax1, label='counts')\n",
        "\n",
        "plt.show()"
      ],
      "metadata": {
        "id": "TGlw5dgnEM8_"
      },
      "execution_count": null,
      "outputs": []
    },
    {
      "cell_type": "code",
      "source": [
        "import matplotlib.pyplot as plt\n",
        "import numpy as np\n",
        "\n",
        "fig = plt.figure()\n",
        "ax = fig.add_subplot(projection='3d')\n",
        "\n",
        "# Create the mesh in polar coordinates and compute corresponding Z.\n",
        "r = np.linspace(0, 1.25, 50)\n",
        "p = np.linspace(0, 2*np.pi, 50)\n",
        "R, P = np.meshgrid(r, p)\n",
        "Z = ((R**2 - 1)**2)\n",
        "\n",
        "# Express the mesh in the cartesian system.\n",
        "X, Y = R*np.cos(P), R*np.sin(P)\n",
        "\n",
        "# Plot the surface.\n",
        "ax.plot_surface(X, Y, Z, cmap=plt.cm.YlGnBu_r)\n",
        "\n",
        "# Tweak the limits and add latex math labels.\n",
        "ax.set_zlim(0, 1)\n",
        "ax.set_xlabel(r'$\\phi_\\mathrm{real}$')\n",
        "ax.set_ylabel(r'$\\phi_\\mathrm{im}$')\n",
        "ax.set_zlabel(r'$V(\\phi)$')\n",
        "\n",
        "plt.show()"
      ],
      "metadata": {
        "id": "bKAx4ZsyEmi-"
      },
      "execution_count": null,
      "outputs": []
    }
  ]
}
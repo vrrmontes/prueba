{
  "nbformat": 4,
  "nbformat_minor": 0,
  "metadata": {
    "colab": {
      "provenance": [],
      "authorship_tag": "ABX9TyONNQU+vQJyT/NQIW3xJrNv",
      "include_colab_link": true
    },
    "kernelspec": {
      "name": "python3",
      "display_name": "Python 3"
    },
    "language_info": {
      "name": "python"
    },
    "widgets": {
      "application/vnd.jupyter.widget-state+json": {
        "116e5f2b360347268adca947371eafe1": {
          "model_module": "@jupyter-widgets/controls",
          "model_name": "IntSliderModel",
          "model_module_version": "1.5.0",
          "state": {
            "_dom_classes": [],
            "_model_module": "@jupyter-widgets/controls",
            "_model_module_version": "1.5.0",
            "_model_name": "IntSliderModel",
            "_view_count": null,
            "_view_module": "@jupyter-widgets/controls",
            "_view_module_version": "1.5.0",
            "_view_name": "IntSliderView",
            "continuous_update": true,
            "description": "",
            "description_tooltip": null,
            "disabled": false,
            "layout": "IPY_MODEL_732d2b43db834945bfe6ae4231cd37bf",
            "max": 15,
            "min": 0,
            "orientation": "horizontal",
            "readout": true,
            "readout_format": "d",
            "step": 1,
            "style": "IPY_MODEL_5d6300a37c5b4b7b9c932c6be750fe49",
            "value": 9
          }
        },
        "732d2b43db834945bfe6ae4231cd37bf": {
          "model_module": "@jupyter-widgets/base",
          "model_name": "LayoutModel",
          "model_module_version": "1.2.0",
          "state": {
            "_model_module": "@jupyter-widgets/base",
            "_model_module_version": "1.2.0",
            "_model_name": "LayoutModel",
            "_view_count": null,
            "_view_module": "@jupyter-widgets/base",
            "_view_module_version": "1.2.0",
            "_view_name": "LayoutView",
            "align_content": null,
            "align_items": null,
            "align_self": null,
            "border": null,
            "bottom": null,
            "display": null,
            "flex": null,
            "flex_flow": null,
            "grid_area": null,
            "grid_auto_columns": null,
            "grid_auto_flow": null,
            "grid_auto_rows": null,
            "grid_column": null,
            "grid_gap": null,
            "grid_row": null,
            "grid_template_areas": null,
            "grid_template_columns": null,
            "grid_template_rows": null,
            "height": null,
            "justify_content": null,
            "justify_items": null,
            "left": null,
            "margin": null,
            "max_height": null,
            "max_width": null,
            "min_height": null,
            "min_width": null,
            "object_fit": null,
            "object_position": null,
            "order": null,
            "overflow": null,
            "overflow_x": null,
            "overflow_y": null,
            "padding": null,
            "right": null,
            "top": null,
            "visibility": null,
            "width": null
          }
        },
        "5d6300a37c5b4b7b9c932c6be750fe49": {
          "model_module": "@jupyter-widgets/controls",
          "model_name": "SliderStyleModel",
          "model_module_version": "1.5.0",
          "state": {
            "_model_module": "@jupyter-widgets/controls",
            "_model_module_version": "1.5.0",
            "_model_name": "SliderStyleModel",
            "_view_count": null,
            "_view_module": "@jupyter-widgets/base",
            "_view_module_version": "1.2.0",
            "_view_name": "StyleView",
            "description_width": "",
            "handle_color": null
          }
        }
      }
    }
  },
  "cells": [
    {
      "cell_type": "markdown",
      "metadata": {
        "id": "view-in-github",
        "colab_type": "text"
      },
      "source": [
        "<a href=\"https://colab.research.google.com/github/vrrmontes/prueba/blob/master/prueba.ipynb\" target=\"_parent\"><img src=\"https://colab.research.google.com/assets/colab-badge.svg\" alt=\"Open In Colab\"/></a>"
      ]
    },
    {
      "cell_type": "code",
      "source": [
        "import ipywidgets as widgets\n",
        "speedSlider = widgets.IntSlider(value=5,min=0,max=15,step=1)\n",
        "display(speedSlider)\n",
        "print(speedSlider.value)"
      ],
      "metadata": {
        "id": "Cov1JueBehxT",
        "outputId": "5fd1c0a6-4dc1-4377-a5c6-1e33a5204e3e",
        "colab": {
          "base_uri": "https://localhost:8080/",
          "height": 67,
          "referenced_widgets": [
            "116e5f2b360347268adca947371eafe1",
            "732d2b43db834945bfe6ae4231cd37bf",
            "5d6300a37c5b4b7b9c932c6be750fe49"
          ]
        }
      },
      "execution_count": 49,
      "outputs": [
        {
          "output_type": "display_data",
          "data": {
            "text/plain": [
              "IntSlider(value=5, max=15)"
            ],
            "application/vnd.jupyter.widget-view+json": {
              "version_major": 2,
              "version_minor": 0,
              "model_id": "116e5f2b360347268adca947371eafe1"
            }
          },
          "metadata": {}
        },
        {
          "output_type": "stream",
          "name": "stdout",
          "text": [
            "5\n"
          ]
        }
      ]
    },
    {
      "cell_type": "code",
      "execution_count": 54,
      "metadata": {
        "id": "Q0uKxeTYLAYb",
        "colab": {
          "base_uri": "https://localhost:8080/",
          "height": 939
        },
        "outputId": "a134b4dc-eba5-4b93-b6da-306671da9f84"
      },
      "outputs": [
        {
          "output_type": "execute_result",
          "data": {
            "text/plain": [
              "<IPython.core.display.HTML object>"
            ],
            "text/html": [
              "<video width=\"640\" height=\"480\" controls autoplay loop>\n",
              "  <source type=\"video/mp4\" src=\"data:video/mp4;base64,AAAAIGZ0eXBNNFYgAAACAE00ViBpc29taXNvMmF2YzEAAAAIZnJlZQAAH9RtZGF0AAACrgYF//+q\n",
              "3EXpvebZSLeWLNgg2SPu73gyNjQgLSBjb3JlIDE2MyByMzA2MCA1ZGI2YWE2IC0gSC4yNjQvTVBF\n",
              "Ry00IEFWQyBjb2RlYyAtIENvcHlsZWZ0IDIwMDMtMjAyMSAtIGh0dHA6Ly93d3cudmlkZW9sYW4u\n",
              "b3JnL3gyNjQuaHRtbCAtIG9wdGlvbnM6IGNhYmFjPTEgcmVmPTMgZGVibG9jaz0xOjA6MCBhbmFs\n",
              "eXNlPTB4MzoweDExMyBtZT1oZXggc3VibWU9NyBwc3k9MSBwc3lfcmQ9MS4wMDowLjAwIG1peGVk\n",
              "X3JlZj0xIG1lX3JhbmdlPTE2IGNocm9tYV9tZT0xIHRyZWxsaXM9MSA4eDhkY3Q9MSBjcW09MCBk\n",
              "ZWFkem9uZT0yMSwxMSBmYXN0X3Bza2lwPTEgY2hyb21hX3FwX29mZnNldD0tMiB0aHJlYWRzPTMg\n",
              "bG9va2FoZWFkX3RocmVhZHM9MSBzbGljZWRfdGhyZWFkcz0wIG5yPTAgZGVjaW1hdGU9MSBpbnRl\n",
              "cmxhY2VkPTAgYmx1cmF5X2NvbXBhdD0wIGNvbnN0cmFpbmVkX2ludHJhPTAgYmZyYW1lcz0zIGJf\n",
              "cHlyYW1pZD0yIGJfYWRhcHQ9MSBiX2JpYXM9MCBkaXJlY3Q9MSB3ZWlnaHRiPTEgb3Blbl9nb3A9\n",
              "MCB3ZWlnaHRwPTIga2V5aW50PTI1MCBrZXlpbnRfbWluPTI1IHNjZW5lY3V0PTQwIGludHJhX3Jl\n",
              "ZnJlc2g9MCByY19sb29rYWhlYWQ9NDAgcmM9Y3JmIG1idHJlZT0xIGNyZj0yMy4wIHFjb21wPTAu\n",
              "NjAgcXBtaW49MCBxcG1heD02OSBxcHN0ZXA9NCBpcF9yYXRpbz0xLjQwIGFxPTE6MS4wMACAAAAN\n",
              "ZGWIhAA3//728P4FNjuY0JcRzeidMx+/Fbi6NDe9zgAAAwAAAwAAAwG5pYX/dnfziCAAAAMAdsAW\n",
              "nqbe0bpHMAdCPqTNRjUGxcP9LdX+dOIla/q6RDHIeSkv65a52hxVJB6f5aSAP2Aq/chZMdF3JS/C\n",
              "prgWxJ9OZgvsWztyMA8Mc5riv4E4yBUkpzgczZcgZ0TDA7urSYf4POjevUAi13nt906263K+i5xK\n",
              "DpfEuYJP9Zzek/SZPHx7vYUC5M72q9eOLZIM8uK4Pq5pH8aJQownZrSYJimp09gMi8T3EoL2cWlS\n",
              "2bXBaTciMAYWbch693HdMejzknaFfeiSI1lyAK8riq1ewfetO9PufnX3uTsG56pi3bIS7pccauf3\n",
              "mFQ+i+0bOaY46W96keAfWu24O8mW5dWCcVWaqTSDgxHuccX7kC0BV0mC5p4QkPMvzdI9KfhL8Vw2\n",
              "jychBGhgAfmffq0T279Egy2ugYS9Xb3bdnzR4NBqctduLxUB4h8ER7UCW5voSG4ohcwg1AqwaepS\n",
              "F4v6YegpYun5u1AqZ84uZyfO7ep91sw/yDL0c/ZTGnEuLt/R4KLuLQGEMyq7xf/NsnjbkbIoSvS6\n",
              "4nd9CO7UpCoNqEVfpEliTHtI7Me+0Y23cShoaHWajF93BpgQeGje7qDPMCATUzY5Xxu7zb4hJ7en\n",
              "xR1GurOwB0tnw6USJ6dWkah25lfzaxMaZoaWiIUJFXpfQm1mn+y9RF9ezNvzfxOFHvz+Fy87mOO4\n",
              "lVcsMJpf/FFj3JBvXFs4AArJIn7eYl0NL+dH5cHaeYjonKz30aMlpl1ZmN/6K9Pjr0L/Y7EQi2/J\n",
              "Nu5BWPijT4gwrQwZcyDOYwyNQvdmWte92AAAAwA3KoOG3DcX8v2e/8Q4bhCnB5Ng6Csz7JQC9V9B\n",
              "CrmVQR6eb5rCm0oNjiOX5zSmAhBNrInCAkEKSeVC1WNNcK5O1LRhpzDo0/9gBaVg+z7YUjcBfEjt\n",
              "JptuqwrXofiBh5SjBiEGObak5i03bJz9ILL+PiRkA3KmZLwIh8aWhbPVX7rJfNWxi3ilL73STcLp\n",
              "zBU6TkTZy7kREA5MrvEUXug7ZvGLD2xcqb/zeEU3K8K6szpEcYSa5jdIEtbzE5cRp89SDz5jc0mA\n",
              "W25z4tZ9wrnt0yfMuuAWdHiB7baM/ktfmNesEkE8aXhQ1ADcCL05SGAAAYgqzrZuohNgyI5+CCqz\n",
              "L7fmfGo127UmeLLzwIYiLg62lNG/bASOM1tL63Xz9uXxxkAtR+8ABo4ktigOuTP598Mz1rHwiv6C\n",
              "oDuCs23zbY6yJraoIhQBMnksYRvM8Y1Idp+WlJGowKZ/rzy8FiqDa5O7yfRbWyD9uhNGCoELrWh/\n",
              "Srnn2yc3lfH6F0lLPCTWei6fBYgTDjiQDxx3+v/ia8XoDXBqZKdcZena6ZFUfEj958SAncFgPhSa\n",
              "IHx8AAguitwAK5YANAOaAbxoJ28UAuOvHKs+iJF6/50IcqgMt0oNBnZp1PIpiiQNxRbfzt4V2Cj1\n",
              "lr8mFwKYifClnWYBhtjVlgZ+pumsyQnqEiaFY+QYQkDBGg/wRtAHf3cjwHSrWMxIQAAAdFpGWoeH\n",
              "wpRkMKYGAwZjvCts08yHb9G3mmPE4HjBw+Sgc/ftKxKxBopi6U64EkuednTWBhaxurGMM3mJnX17\n",
              "fAYBIrVJ8Yx1T2QY41PKfAN1QsUU/TeYi4R4gEMjVUOR5VtdmqxH7FYtITwygAWno7m8rzK3Gwh9\n",
              "jrO5VdJYJ26dY5p12eW9+W1g7jxK0h0DUtjgz7LI0Ij+eQ+TTryRstZIBAEWypNwyT78CAAassTY\n",
              "61fTNn+ZML9S/wgusihrwOnXJo4EiWkoJg3TU0/RbnqJ91yUynkl4lKt/bET8/jmTH0U0EV2kZMY\n",
              "LJtwBPaHfezce8R98LogV2fuCAwerG98QKjA9dvVMgrqgDH/F3kyt0Uo+MZwHhuuWXVUfglbN35c\n",
              "GgZZbl/eHtbTMOLgAXGcn9lznH9hpDR7kFn0xhY4H8HG1EftVJba3/KcLO4ETBtcGWKZE/BVCgM1\n",
              "sdYHv4Pj6wBMn/vJ79tA4J1VYy+vlSSKYTNIV3OGCH5RK1EgIIT/b2q8w7P5tV90j/f/BABi9iCT\n",
              "r3+wct3miSiIAZtwruckgT2G1a+tk4bhlLMVHJm8OYs6r7PGoGGfQTqsEhitwPNUsCtE7Jd6kvcH\n",
              "D39llIYrPI1CgcO3JrEUPUcvAAADAAOaAAAJDElSKeUQnPnTeG5ldrDbx+hf4QXqdr3OLMXkeWIs\n",
              "3oqXfOJRyICm7JFWuBESLklgFV6UbAzZSihHRiaD+mXCre2KbG+DHnffdj5sT+bMkIOLu64T1SA2\n",
              "l+0ZHekxHImJSvhTGiaRiCsolPrzURoAoJJEtAAlNIHUje/B29/uTS/dcoxqVA7Pzi2zKeytfGid\n",
              "jHYKDJUIs4IrhIXhOvBA8gW5o31Jdw3CkOGArQM11+cCmnTHF2k0G1KiL9QP9al5wo6pXOz5v8sP\n",
              "09V/4EB4YHrBos3hWGwFobkOYQoiXEhCvfwZbXl9KGzxSoRhypNrbMNr7txMX3K9Fq2z2R9ihKSc\n",
              "7o1V0ZeFQcWcQTp7m+5CZ0JcgVTqPpUd0UDZKbD9GHnZYw+7yqMIVDV0y7acc+St6T0ZcQV6jtGe\n",
              "r6WGVDqgpSPknRPCk+cO0Rce7KQqp/VauuGYVAtNT3p5xnwIfHXbNzeZHVd4T6fpNJ0SxgyQJSAY\n",
              "mgKmZhEXGBkmIhOPlwv9RuAz5E38eddbjx7oLTEGjgiwja9xJ9gqL9h3tbN71f4PJtB1zJ7soiDu\n",
              "ubte3baXOdXihmWJUeA5loleJWPSP7RRNKWBHa/0v+/FP0t38fnAPfW+0ejZyd6MuxIiQs8T/8Wl\n",
              "qOcDMcBbQFz7FRFW56nOj1/lYE68cL384JN6y4H/Z2Cntw++T6X23zfesQzivm/Q++yXQ68iznJt\n",
              "Ugov7bH0U6jNZ/ErpbsyKgZta9MiHDR8pKhzlXELPoozL9HOMl5j2NBKXjL9aS8dMWoS7jByL2Bi\n",
              "d8r/AhPX87pcAEIHyqK9M3YSS+a8oAJNjX7/+/lr1SD2xvmA4lM6iOkq+Z3DvgZeYhMIPuCLi091\n",
              "xbUVIxmKQoNzWliffkmc7oVJ343sGDWDl4G32k3XsXnw4/rOTzd3OOwbDO5F5sXO2HrjokZVzN0b\n",
              "XsW5Xv526i9rbUMgknUp8C1qE0aZxAgGCPPNg68Sh69VevqCbJcJssgmwkbdk9oRmqcxMEHQgmII\n",
              "96d6+fncS8tPyZTbhfvTn6gqkyJB6qtSyZsAgUQ6SPmuCjFjHyVqs0o2wXuX0EnjDx03EzjQxQ9p\n",
              "wD5jeXa/ZIsgfo/zYlbH1Qe6AG7QlLBCJGO7nKsdmxI/7CVpYS7+ZCmYhqdi1pK064KJI5hwrVxz\n",
              "qfxRhq4Y7dA5XDtwHeoyCtn4ZL3zqaSyx0tCPw0Adxt1CDLW/KDjheqo/nPF+tURg7bKrlI6NNqN\n",
              "ldcEKoUq2op4eFYGjEqM1lFdfOQgk21t7usHBWdNbMkmAmyuHLmhijbnc53ll9UV/K61oOsZLW3J\n",
              "OMWaEAwWIlnwr5vqgEl6MZt/0kOP/iq3ZpiIkVCA9dm5bEf+NHnQeZMavN99nTn2mHhMMqLjLcB9\n",
              "TCeHvTJ9OiqEJoGaqsX2wUeCKkngob5MbEA/7y+bPiA8RObxcDCjXJ8PLPxYdDXylINBddDuChIZ\n",
              "SdUMH5mLEcDKYddUCgtfTqyu9ywdk0sxNDdUQPtU75PjyAuYbL0gercGpqkhA1NHYMVqBTpKooh2\n",
              "ijtVXayQFWpiV9xA45tJIe2x4jTYOr/v3Jrh1CPwGFoSKkQUqPv5VUNcpjZP9tmTjV5+5isb+SIm\n",
              "psvUvNPFWhUT+t0ycZZkddFzcx0BBaVe00SipTOE+0mLzKapWb3PX++qzESlgLrjE/dT0c+5r29N\n",
              "R7zEFyImu2xxuyBjfSxxE4VfMPtVLRn3X5zT1kMmX9unflA0sKTFE/vFvTYAhQ8EdWSKa8f3Dyay\n",
              "Eo/OBBM6iyqjUNsBziW4OfI/+WnW8tGDAM5mySL/lElfnb/KTI7F2xxBzIee5du75tumD8j6E/aG\n",
              "Jg5HbHHoOG779mks8yJ2i8rTPutisM5UqKq4MeZ9viYTn9vLIvPQwZFGFdOgOA576peSE6mQ6QAA\n",
              "jsI64Advd+S6B3HivoRvME8PexGkCf1Tj4AcJsc1ECup3AYfXL5U72CghFfuVrCB9VQvS9ahxX6b\n",
              "dbNScnGk+RR/+g6I83C/JnAWTRQsqB/Ocn3QjwjytUrYm13e/gkKF5zyqHN7T+iBg6nPZZ6bpCnI\n",
              "Eo4uAYmuwzxN7g/cerBOnsWEoMw23rs91jdT91og8MIOd9H1TIrEY9+dnTcFTjrUPfGqMyuuM5MN\n",
              "D+1B4rEArG7J8amb9MjbrOIooAAjJehaKTEEP/x1+in5yEG87D/6vaSrXaxZd1oz5I/qOqs3l6qo\n",
              "THZn/H555Lqz87YAlYdOrcS9KwkP0wJImoz8Sy+8yxgN9cCWiCD2II+ettVwxAlsa47sBYQ92z1r\n",
              "p/zC2Oi8wPaBAAABw0GaJGxDf/6nhAAa/gYME/We3zRBLkhSmC881BzeOZh03hNh/HtqmX8ACOnv\n",
              "HX9AF+QFuHAoJpD4pVz3faAYQhMxT++jod8Ow89KkvTyC+F2Pm19RhRCcdiVmnLqYqxtUSSJOrmq\n",
              "+W16gn2JcT4xoKcpi0NzGeijBpA9Wp3DZePdrRlwAn2aMp6y5NyaAkIecw4YIP9qVXOnoenZx1PQ\n",
              "doAxO5QKwfFgdvURwLfJfk2rK4tP4HxNdb2Vt/7IRs6JOeDRenjWweFXrorN8MzhNooAGWfkq8rO\n",
              "NxP9QREWEjwqOSskR0X4hGcb3pFAYJcBBlySRB9B7jbaS81FKMN6Ec4hOAhk2mGUC9+t4KvWdVYO\n",
              "pH1SSY7uopvGgiFLZG2eH0cK+Jr4/apSsw9iBQ8MnDcprA/MS9kjZ2nrgtsEL3kPW2pR2bIF7ZXZ\n",
              "312AuxK3D0XHkBXisnygBEVZSCgeazCwUaoQJAtnkArEYeEBe0whvsfQDiW7GSR9BwjTwPXIHc0f\n",
              "E1rJSCemkNdmgIQYTLto6ZmVzosyD4ov5blGbXNEAF05FjBEXQf5Lu3GQ7WkMlfeG4il1R/KaZhk\n",
              "86KhO4B+/eMAAAA1QZ5CeIV/ABYmicj6dFeuPAAABoa1oy6wBjGaFDpicVHB6JgAX144SOWQVJJF\n",
              "mAjMeNm+GVEAAAAqAZ5hdEJ/ABxNfQPj2dQJWaAAABuO1oy6wBS0+DvkU0crmjgFLiVBoC7gAAAA\n",
              "JwGeY2pCfwAAAwAC/PqfAHKK36nl5yNOy7MNSBybX2jAXiKf2c3RgQAAAZdBmmdJqEFomUwIb//+\n",
              "p4QAAAMAONr34Lt/cB/IDOa8zA04wJAt+SzUf8n9vPmhukK/60E7edt1upmxuPV896PQ0MlAozy+\n",
              "suNoiIYqRA9TOLUHbvldw5deVTnwH9J4VrL9qE0fqyit3L4p8ZXPZDwFFLOY0gbfSP99YmECqOPP\n",
              "+YGuNtZ7M3aN8kUGX5lNx1Y/tCV70ySgJCkw+KTIRDZRgZHbKUDezANOFCrYBoL9Sx/5fBaNSdCw\n",
              "jle8yGQTGxGXUkLloTJNolNw8tG3EQSAqOBFf8GgOSetectQULcMVUGph+yPkEkNbfbmfW7A/GPn\n",
              "zzSnoHLdXxeLO1RCIDvWcq6wvLMwAeiz7EojAHdn+W2gdsy2Y/R6f2zEpxAiDv29jmvFEtyngq0y\n",
              "U4IsvNxvs6WOfiTQjIivlB1bjFv+99ELvZiOP8PQinaHjeXGWYGJ19GH5WftQBa0ZwLf6mldqbm6\n",
              "UM1rqPBhMGlDVYn0CY/zlpDiHVjBM2UpC+c2wHtri9JiFG6gNShuEG14Hh3jaqH387dtzQAAADJB\n",
              "noVFESwn/wAAAwA7bxlFJ+oDq3YQxtADaao1C+MqbCOFzWo2m25amQEBRCDeSlx6lwAAACUBnqZq\n",
              "Qn8AAAMAO28BS4/WNqpUAC0V/d1+fHxUMEAOnIHylt/pAAABVUGaq0moQWyZTAhv//6nhAAAAwCX\n",
              "cg+EBQA4BNfc5EMNIxEfDame9fZ/sTEafaJTXmDy51tXQZhSY38y3aEuG1qAj41idMuXihFukxxj\n",
              "ivbpoyKwE84ScRLBMNdGQRUBL7CSBF8QhnNS1SGgG7zBA3fCY8Uw/RBDkxT+0pPe4Z6vrpx7ghna\n",
              "cZXajtCOD7oDJeJrWXN5RkTsi+7e5xp8igP/EdKKJMhOSlkEx0JWwHkdNn+KcvyA4Whu6qlVPklb\n",
              "in6rJhpElMvY4JICZcygAaIgn0S0MiovsEkDGtXgDomoa3m9lzAwsTjpvYphVjIQ1+optRGDD1sY\n",
              "QjP/1oNFYx1oOG0mr+n+z9/kCwtDHx41CeqEV1DMlkT3KU9rFEax0ZRREz6mNPLYDn6xgM9ypGoU\n",
              "1c4dIACQsd7nUvZcBlFJBQR8kBZn9fHyvTZWvkYI33jwRnHTAAAAMUGeyUUVLCv/AAADAHgLi+MA\n",
              "A6Roq/alFoJew1zX7GK7VMaz2hjZwAKqCGgWLg7PXaAAAAAnAZ7odEJ/AAADAJ9pxtBRmhWwNwAt\n",
              "wo9Vc6O5Nx4bDaABDSN2RTLFAAAAHwGe6mpCfwAAAwCfMkoSy0p+gpG2687KAIbWogjjVIAAAAC+\n",
              "QZrvSahBbJlMCG///qeEAAADAI544H2iut0v6EOl4gB0RbATYs7YmAdqJYNU0FxDSEVIN8JixSAw\n",
              "wT7ZpSzpCfAcGsVSLuiFGIL2hYmrnZtftgSshlpeJ69BHTBxnBoa1TOOlARYfTcYOQo+x0kSs+e1\n",
              "xiX94uFCf/YXfkLzcouhLmuoW2yMs3rl8Yi8c3mXVTNDGRyPx5wot4bKG5lDjfySitaiWdGqfNwO\n",
              "3q/e7+f4Zn+ftgK7CHTnlTiOjAAAAC9Bnw1FFSwr/wAAAwFHr+BWp8KAEtsWQHGymFj7MGRMqnTP\n",
              "41PgAHwgYh8cH+8mgQAAACYBnyx0Qn8AAAMBnJkBqoHABO3lt8VYozjeuilPpEwAa98U2wF6gQAA\n",
              "ACUBny5qQn8AAAMBpnfKDEBpmQALeImuzoVVxBrXYigD4sh2P+WNAAABPUGbM0moQWyZTAhv//6n\n",
              "hAAAAwCCyTR1fF+AOUoQIsftpivZLVM3Hw+zBJ1EmIibztT1AqFm9AvDrXRkyPQyuqLmQL7yZOHQ\n",
              "UeLaCQhd0Rs/yftDc7l3DXv5b95FmCWmgqzwZlYwuiPph8E5hS4uNWsgX2zN98nVIKnf3PerteX/\n",
              "ml1lSnG2lWXLWpVO+aXw3m7LfvhE4mNIEjRIe6/C2KM4DZOy2XffXZypmx8ssMiIvK515z+KOHWs\n",
              "iRnMhZy0b7ZvZv/twHmOrQFivPFDxxL653EcaYKdl5q0YsLtKyLFaqB3A8TAP8jsPCsCgsUUvsox\n",
              "xEzUrX9Ul0zxq1TLl6Rl1EpI3h8EANIb1DjcHX8/fbxPanjtyOjo0fDjBMo/qRHaFxQZH4l3itzG\n",
              "MGyBQGaMjmJrU0u493EBgALKAAAAOUGfUUUVLCv/AAADAUfkzUEqdo/MAt11aAVlQASPlumewl2w\n",
              "7M40ix9Of91DFYykuAHv18LIPwGj+AAAABsBn3B0Qn8AAAMBpfOGwHs+k6NJADFpxQDkPcEAAAAo\n",
              "AZ9yakJ/AAADAaZ4xapBztfA5WxsALJmECuR/l7shp2IAL9HIYRjhgAAAUJBm3dJqEFsmUwIZ//+\n",
              "nhAAAAMAPLZAnodzGD+YAG1Cm9ZzEw0GbqWQoDl7e83sV2DKjkF8fIrTVACmE7v2J31zcDvT1hR5\n",
              "KVwbyVLlEbGmwSCYALqaIKMu+m0tAoqMPyBmlCMtecwhRPDh4v/t31OFVkyJwVVvKQPq7oQb+kBp\n",
              "TwkINVvzvMK2p5rWq4Ms2pT74eb1b0aE/GTHJkE9j911wuIBpXp4O105sLwubmUsX1I4efARWU57\n",
              "eErnYCtbiiXjl94xpEPw4qau3po1R1yX81gaeS6ZYPDb2tPdxezna9iaHsWjozgF/7d/VUcRGOWW\n",
              "CyHDrf+zRjNgowbDYBxLyMYyBQWkhK+WX6XJozhmQzr+hCLBRfYl81oBfXCdZ3rfdZn0BipGd2dp\n",
              "Rfot+JhSa/plAQ7G68g80ZnDnZgcAOmAAAAANEGflUUVLCv/AAADAUfkzUEqIvJfRGIfo+k0AevN\n",
              "wAE7ecDdyolnvQ6SpE7A/U6qD9OqMokAAAAtAZ+0dEJ/AAADAaXzhaCOtctHw3ncF3NgAVZTWUiS\n",
              "c8FY/+T3xCApN6ogroOAAAAAMgGftmpCfwAAAwGmeMWqPrZ95kMrfDFVin8AFky5RhPgkP6UCl46\n",
              "588RPZWoeY+hPfjpAAABRUGbukmoQWyZTAhn//6eEAAAAwACseqqbdDTkdA6cAXZJl0wWK3Uik3K\n",
              "1Sb6vbfuVtULGT1Y4NsFHuxoB9apzIw2/t1ABHfBeNGXaf7iAaWphczHY9w2jXA1ivIaw7QNzSj8\n",
              "VSNLfUxEBajx1Iism75qJOXGjEbxtyAH2L39J7Z/o8V7iem034aStrcoBQbqvtOQ+vMt3QG7Fpf4\n",
              "Sk302K3/doRAadNn+/cl6gsQUmijpUyBGICyQlos0mRiG0mUuF8xumk0d9Z6S9DWzo7FL63KU7Gn\n",
              "rzZJ7U9A35RY0o9ouOpZjFzNALaTIbGAA9OcnCZXn/TGmUIvFCr5HKQkP6Kyx4VFbm9mYL1gH7mx\n",
              "1zA7FKIyH2e5m7V93evTZ31MENJ7S3KFt0rMtE3Uk3AdwO+xi6ifoHkPMkNMtD1fZ7TfgkLMM+EA\n",
              "AAA+QZ/YRRUsJ/8AAAMAgwvEHlgxu3s2IxcbX2N5to7/EJ9DgBXjzyBZ4iSM2v2RmU2gByrSuE5r\n",
              "7cRmb6MX3IAAAAAsAZ/5akJ/AAADAILt+nDtYl6iqYem6I4nlaDADW6eI1ijanL1lr7DJqZuXo8A\n",
              "AABhQZv7SahBbJlMCGf//p4QAAADAADtIHpszWrN7it5etOI9h3wAlYU5pTFurUb/3XObgKHXZFV\n",
              "9VFRsCxXvXSx9VYNmlZihbn+LsOFaPpZLnwALRr9HgGi9OGkkpR6HmhkHAAAAGRBmhxJ4QpSZTAh\n",
              "v/6nhAAAAwAAAwKfC6p1i/OfLgCJfimn8gAUab53ASVTab77vyud6WLDuDL3JOOPoMqQ0a/oFoI6\n",
              "kLfPoDIiusa9dLH3areW4dolpYfCE6X0g3611uiA1D7pAAAAhkGaIEnhDomUwIZ//p4QAAADAAAD\n",
              "AUdWgvD6wckbAAhuvl8Px4QfuLkQalT4Hh/PrqpX2S64OJ0Ci6nnYFtQauBvMsOqUIftD0c3NyKS\n",
              "q1MJ8hUI52Q2npn9dlTyhDGM5SgxipnRvJ3fJUA+N+okNk06owJ1EAAilzwWfVlipgd6HnoMiMcT\n",
              "AAAALEGeXkURPCv/AAADAGckw6+tSk4tyr/i6nDHYPHTvALSWo6rKOJ3AMX/wzNcAAAAJgGefXRC\n",
              "fwAAAwCCtRw1LtcRKECG9oreGAdt2s/sTdVBSfCUbh5UAAAAIAGef2pCfwAAAwCC7fpw7WJeogmh\n",
              "JK3dhp1iWE8cN77pAAAAG0GaZEmoQWiZTAhf//6MsAAAAwAAAwAOkjIoxwAAACdBnoJFESwr/wAA\n",
              "AwBnLDOwSba+HRWiASNS3YQxChIddMwhiIlgNWEAAAAgAZ6hdEJ/AAADAIK1HDUu1xEoQIb2it4Y\n",
              "BgViF/md/MAAAAAgAZ6jakJ/AAADAILt+nDtYl6iCaEkrd2GnWJYTxw3vukAAAAYQZqnSahBbJlM\n",
              "CE///fEAAAMAAAMAAAz5AAAAJ0GexUUVLCf/AAADAIMLxB5YMbt7NiMXHKaeCOJpKE8DZITPC1CD\n",
              "gQAAACABnuZqQn8AAAMAgu36cO1iXqIJoSSt3YadYlhPHDe+6QAABPJtb292AAAAbG12aGQAAAAA\n",
              "AAAAAAAAAAAAAAPoAAAEsAABAAABAAAAAAAAAAAAAAAAAQAAAAAAAAAAAAAAAAAAAAEAAAAAAAAA\n",
              "AAAAAAAAAEAAAAAAAAAAAAAAAAAAAAAAAAAAAAAAAAAAAAAAAAACAAAEHHRyYWsAAABcdGtoZAAA\n",
              "AAMAAAAAAAAAAAAAAAEAAAAAAAAEsAAAAAAAAAAAAAAAAAAAAAAAAQAAAAAAAAAAAAAAAAAAAAEA\n",
              "AAAAAAAAAAAAAAAAAEAAAAACgAAAAeAAAAAAACRlZHRzAAAAHGVsc3QAAAAAAAAAAQAABLAAAAMA\n",
              "AAEAAAAAA5RtZGlhAAAAIG1kaGQAAAAAAAAAAAAAAAAAADIAAAA8AFXEAAAAAAAtaGRscgAAAAAA\n",
              "AAAAdmlkZQAAAAAAAAAAAAAAAFZpZGVvSGFuZGxlcgAAAAM/bWluZgAAABR2bWhkAAAAAQAAAAAA\n",
              "AAAAAAAAJGRpbmYAAAAcZHJlZgAAAAAAAAABAAAADHVybCAAAAABAAAC/3N0YmwAAAC3c3RzZAAA\n",
              "AAAAAAABAAAAp2F2YzEAAAAAAAAAAQAAAAAAAAAAAAAAAAAAAAACgAHgAEgAAABIAAAAAAAAAAEA\n",
              "AAAAAAAAAAAAAAAAAAAAAAAAAAAAAAAAAAAAAAAAAAAY//8AAAA1YXZjQwFkAB7/4QAYZ2QAHqzZ\n",
              "QKA9oQAAAwADAAADAMgPFi2WAQAGaOvjyyLA/fj4AAAAABx1dWlka2hA8l8kT8W6OaUbzwMj8wAA\n",
              "AAAAAAAYc3R0cwAAAAAAAAABAAAAKAAAAYAAAAAUc3RzcwAAAAAAAAABAAAAAQAAATBjdHRzAAAA\n",
              "AAAAACQAAAABAAADAAAAAAEAAAeAAAAAAQAAAwAAAAABAAAAAAAAAAEAAAGAAAAAAQAABgAAAAAC\n",
              "AAABgAAAAAEAAAeAAAAAAQAAAwAAAAABAAAAAAAAAAEAAAGAAAAAAQAAB4AAAAABAAADAAAAAAEA\n",
              "AAAAAAAAAQAAAYAAAAABAAAHgAAAAAEAAAMAAAAAAQAAAAAAAAABAAABgAAAAAEAAAeAAAAAAQAA\n",
              "AwAAAAABAAAAAAAAAAEAAAGAAAAAAQAABgAAAAACAAABgAAAAAIAAAMAAAAAAQAAB4AAAAABAAAD\n",
              "AAAAAAEAAAAAAAAAAQAAAYAAAAABAAAHgAAAAAEAAAMAAAAAAQAAAAAAAAABAAABgAAAAAEAAAYA\n",
              "AAAAAgAAAYAAAAAcc3RzYwAAAAAAAAABAAAAAQAAACgAAAABAAAAtHN0c3oAAAAAAAAAAAAAACgA\n",
              "ABAaAAABxwAAADkAAAAuAAAAKwAAAZsAAAA2AAAAKQAAAVkAAAA1AAAAKwAAACMAAADCAAAAMwAA\n",
              "ACoAAAApAAABQQAAAD0AAAAfAAAALAAAAUYAAAA4AAAAMQAAADYAAAFJAAAAQgAAADAAAABlAAAA\n",
              "aAAAAIoAAAAwAAAAKgAAACQAAAAfAAAAKwAAACQAAAAkAAAAHAAAACsAAAAkAAAAFHN0Y28AAAAA\n",
              "AAAAAQAAADAAAABidWR0YQAAAFptZXRhAAAAAAAAACFoZGxyAAAAAAAAAABtZGlyYXBwbAAAAAAA\n",
              "AAAAAAAAAC1pbHN0AAAAJal0b28AAAAdZGF0YQAAAAEAAAAATGF2ZjU4Ljc2LjEwMA==\n",
              "\">\n",
              "  Your browser does not support the video tag.\n",
              "</video>"
            ]
          },
          "metadata": {},
          "execution_count": 54
        },
        {
          "output_type": "display_data",
          "data": {
            "text/plain": [
              "<Figure size 640x480 with 1 Axes>"
            ],
            "image/png": "[encoded data removed]"
          },
          "metadata": {}
        }
      ],
      "source": [
        "import numpy as np\n",
        "import matplotlib.pyplot as plt\n",
        "from matplotlib.animation import FuncAnimation\n",
        "from IPython.display import HTML\n",
        "\n",
        "fig, ax = plt.subplots()\n",
        "t = np.linspace(0, 3, 40)\n",
        "g = -9.81\n",
        "\n",
        "v = speedSlider.value #5\n",
        "z = g * t**2 / 2 + v * t\n",
        "\n",
        "line = ax.plot(t[0], z[0], label=f'v = {v} m/s')[0]\n",
        "ax.set(xlim=[0, 3], ylim=[-4, 10], xlabel='Time [s]', ylabel='Z [m]')\n",
        "ax.legend()\n",
        "\n",
        "def update(frame):\n",
        "    # for each frame, update the data stored on each artist.\n",
        "    x = t[:frame]\n",
        "    y = z[:frame]\n",
        "    # update the line plot:\n",
        "    line.set_xdata(t[:frame])\n",
        "    line.set_ydata(z[:frame])\n",
        "    return (line)\n",
        "\n",
        "\n",
        "ani = FuncAnimation(fig=fig, func=update, frames=40, interval=30)\n",
        "#plt.show()\n",
        "HTML(ani.to_html5_video())"
      ]
    }
  ]
}
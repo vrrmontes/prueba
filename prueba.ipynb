{
  "nbformat": 4,
  "nbformat_minor": 0,
  "metadata": {
    "colab": {
      "provenance": [],
      "authorship_tag": "ABX9TyNn6M17gZth06nuMFvvn5kr"
    },
    "kernelspec": {
      "name": "python3",
      "display_name": "Python 3"
    },
    "language_info": {
      "name": "python"
    }
  },
  "cells": [
    {
      "cell_type": "markdown",
      "source": [
        "# Exercise 1.- Projectile motion"
      ],
      "metadata": {
        "id": "oi3MwG_c16m_"
      }
    },
    {
      "cell_type": "markdown",
      "source": [
        "\\begin{align}\n",
        "\\nabla \\times \\vec{\\mathbf{B}} -\\, \\frac1c\\, \\frac{\\partial\\vec{\\mathbf{E}}}{\\partial t} & = \\frac{4\\pi}{c}\\vec{\\mathbf{j}} \\\\   \\nabla \\cdot \\vec{\\mathbf{E}} & = 4 \\pi \\rho \\\\\n",
        "\\nabla \\times \\vec{\\mathbf{E}}\\, +\\, \\frac1c\\, \\frac{\\partial\\vec{\\mathbf{B}}}{\\partial t} & = \\vec{\\mathbf{0}} \\\\\n",
        "\\nabla \\cdot \\vec{\\mathbf{B}} & = 0\n",
        "\\end{align}"
      ],
      "metadata": {
        "id": "SzISEH0v1gYI"
      }
    },
    {
      "cell_type": "code",
      "source": [
        "import ipywidgets as widgets\n",
        "speedSlider = widgets.IntSlider(value=5,min=0,max=15,step=1,description=\"speed(m/s):\")\n",
        "display(speedSlider)"
      ],
      "metadata": {
        "id": "Cov1JueBehxT"
      },
      "execution_count": null,
      "outputs": []
    },
    {
      "cell_type": "code",
      "execution_count": null,
      "metadata": {
        "id": "Q0uKxeTYLAYb"
      },
      "outputs": [],
      "source": [
        "import numpy as np\n",
        "import matplotlib.pyplot as plt\n",
        "from matplotlib.animation import FuncAnimation\n",
        "from IPython.display import HTML\n",
        "\n",
        "fig, ax = plt.subplots()\n",
        "t = np.linspace(0, 3, 40)\n",
        "g = -9.81\n",
        "\n",
        "v = speedSlider.value #5\n",
        "z = g * t**2 / 2 + v * t\n",
        "\n",
        "line = ax.plot(t[0], z[0], label=f'v = {v} m/s')[0]\n",
        "ax.set(xlim=[0, 3], ylim=[-4, 10], xlabel='Time [s]', ylabel='Z [m]')\n",
        "ax.legend()\n",
        "\n",
        "def update(frame):\n",
        "    # for each frame, update the data stored on each artist.\n",
        "    x = t[:frame]\n",
        "    y = z[:frame]\n",
        "    # update the line plot:\n",
        "    line.set_xdata(t[:frame])\n",
        "    line.set_ydata(z[:frame])\n",
        "    return (line)\n",
        "\n",
        "\n",
        "ani = FuncAnimation(fig=fig, func=update, frames=40, interval=30)\n",
        "#plt.show()\n",
        "HTML(ani.to_html5_video())"
      ]
    },
    {
      "cell_type": "code",
      "source": [
        "print(t)\n",
        "print(z)"
      ],
      "metadata": {
        "id": "BUycZ5IX4WBJ"
      },
      "execution_count": null,
      "outputs": []
    },
    {
      "cell_type": "code",
      "source": [
        "# importing matplotlib module\n",
        "from matplotlib import pyplot as plt\n",
        "\n",
        "# x-axis values\n",
        "#x = [5, 2, 9, 4, 7]\n",
        "\n",
        "# Y-axis values\n",
        "#y = [10, 5, 8, 4, 2]\n",
        "\n",
        "# Function to plot\n",
        "plt.plot(t, z) #(x,y) axis\n",
        "\n",
        "# function to show the plot\n",
        "plt.show()\n"
      ],
      "metadata": {
        "id": "_XwaFvN34WZL"
      },
      "execution_count": null,
      "outputs": []
    }
  ]
}
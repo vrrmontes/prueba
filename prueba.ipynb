{
  "nbformat": 4,
  "nbformat_minor": 0,
  "metadata": {
    "colab": {
      "provenance": [],
      "authorship_tag": "ABX9TyMquHS6wIxMCnK/UcW/6LPC"
    },
    "kernelspec": {
      "name": "python3",
      "display_name": "Python 3"
    },
    "language_info": {
      "name": "python"
    }
  },
  "cells": [
    {
      "cell_type": "code",
      "source": [
        "import ipywidgets as widgets\n",
        "speedSlider = widgets.IntSlider(value=5,min=0,max=15,step=1,description=\"speed:\")\n",
        "display(speedSlider)"
      ],
      "metadata": {
        "id": "Cov1JueBehxT"
      },
      "execution_count": null,
      "outputs": []
    },
    {
      "cell_type": "code",
      "execution_count": null,
      "metadata": {
        "id": "Q0uKxeTYLAYb"
      },
      "outputs": [],
      "source": [
        "import numpy as np\n",
        "import matplotlib.pyplot as plt\n",
        "from matplotlib.animation import FuncAnimation\n",
        "from IPython.display import HTML\n",
        "\n",
        "fig, ax = plt.subplots()\n",
        "t = np.linspace(0, 3, 40)\n",
        "g = -9.81\n",
        "\n",
        "v = speedSlider.value #5\n",
        "z = g * t**2 / 2 + v * t\n",
        "\n",
        "line = ax.plot(t[0], z[0], label=f'v = {v} m/s')[0]\n",
        "ax.set(xlim=[0, 3], ylim=[-4, 10], xlabel='Time [s]', ylabel='Z [m]')\n",
        "ax.legend()\n",
        "\n",
        "def update(frame):\n",
        "    # for each frame, update the data stored on each artist.\n",
        "    x = t[:frame]\n",
        "    y = z[:frame]\n",
        "    # update the line plot:\n",
        "    line.set_xdata(t[:frame])\n",
        "    line.set_ydata(z[:frame])\n",
        "    return (line)\n",
        "\n",
        "\n",
        "ani = FuncAnimation(fig=fig, func=update, frames=40, interval=30)\n",
        "#plt.show()\n",
        "HTML(ani.to_html5_video())"
      ]
    }
  ]
}
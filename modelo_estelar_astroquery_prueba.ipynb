{
  "nbformat": 4,
  "nbformat_minor": 0,
  "metadata": {
    "colab": {
      "provenance": [],
      "authorship_tag": "ABX9TyOywVQiFjMsQknf4Oj2g0B3"
    },
    "kernelspec": {
      "name": "python3",
      "display_name": "Python 3"
    },
    "language_info": {
      "name": "python"
    }
  },
  "cells": [
    {
      "cell_type": "markdown",
      "source": [
        "# Modelo Estelar"
      ],
      "metadata": {
        "id": "AwAQekTTSXiI"
      }
    },
    {
      "cell_type": "markdown",
      "source": [
        "This project uses astroquery.\n",
        "\n",
        "astroquery license details (at https://astroquery.readthedocs.io/en/latest/license.html) are:\n",
        "\n",
        "\n",
        "Astroquery License\n",
        "\n",
        "Astroquery is licensed under a 3-clause BSD style license:\n",
        "\n",
        "Copyright (c) 2011-2024 Astroquery Developers All rights reserved.\n",
        "\n",
        "Redistribution and use in source and binary forms, with or without modification, are permitted provided that the following conditions are met:\n",
        "\n",
        "    Redistributions of source code must retain the above copyright notice, this list of conditions and the following disclaimer.\n",
        "\n",
        "    Redistributions in binary form must reproduce the above copyright notice, this list of conditions and the following disclaimer in the documentation and/or other materials provided with the distribution.\n",
        "\n",
        "    Neither the name of the Astropy Team nor the names of its contributors may be used to endorse or promote products derived from this software without specific prior written permission.\n",
        "\n",
        "THIS SOFTWARE IS PROVIDED BY THE COPYRIGHT HOLDERS AND CONTRIBUTORS “AS IS” AND ANY EXPRESS OR IMPLIED WARRANTIES, INCLUDING, BUT NOT LIMITED TO, THE IMPLIED WARRANTIES OF MERCHANTABILITY AND FITNESS FOR A PARTICULAR PURPOSE ARE DISCLAIMED. IN NO EVENT SHALL THE COPYRIGHT HOLDER OR CONTRIBUTORS BE LIABLE FOR ANY DIRECT, INDIRECT, INCIDENTAL, SPECIAL, EXEMPLARY, OR CONSEQUENTIAL DAMAGES (INCLUDING, BUT NOT LIMITED TO, PROCUREMENT OF SUBSTITUTE GOODS OR SERVICES; LOSS OF USE, DATA, OR PROFITS; OR BUSINESS INTERRUPTION) HOWEVER CAUSED AND ON ANY THEORY OF LIABILITY, WHETHER IN CONTRACT, STRICT LIABILITY, OR TORT (INCLUDING NEGLIGENCE OR OTHERWISE) ARISING IN ANY WAY OUT OF THE USE OF THIS SOFTWARE, EVEN IF ADVISED OF THE POSSIBILITY OF SUCH DAMAGE.\n",
        "\n"
      ],
      "metadata": {
        "id": "LVtt3HbUCzsQ"
      }
    },
    {
      "cell_type": "code",
      "source": [
        "!pip install -U --pre astroquery"
      ],
      "metadata": {
        "id": "IznjQ3PGHDBx"
      },
      "execution_count": null,
      "outputs": []
    },
    {
      "cell_type": "code",
      "source": [
        "import astroquery\n",
        "print(astroquery.__citation__)"
      ],
      "metadata": {
        "id": "RY4yPble5pMx"
      },
      "execution_count": null,
      "outputs": []
    },
    {
      "cell_type": "code",
      "source": [
        "import ipywidgets as widgets\n",
        "style = {'description_width': 'initial', 'width':'70%'}\n",
        "star = widgets.Text(\n",
        "    value='Vega',\n",
        "    placeholder='Type something',\n",
        "    description='Introduce una estrella (nombre común, Messier id...):',\n",
        "    style=style,\n",
        "    layout = widgets.Layout(width='800px'),\n",
        "    disabled=False\n",
        ")\n",
        "display(star)\n"
      ],
      "metadata": {
        "id": "0a5EY_flG0JW"
      },
      "execution_count": null,
      "outputs": []
    },
    {
      "cell_type": "code",
      "source": [
        "print(star.value);"
      ],
      "metadata": {
        "id": "cl48qeFgTHq9"
      },
      "execution_count": null,
      "outputs": []
    },
    {
      "cell_type": "code",
      "source": [
        "from astroquery.simbad import Simbad\n",
        "Simbad.add_votable_fields(\"mesDiameter\")\n",
        "result_table = Simbad.query_object(star.value)\n",
        "star_radius = result_table.field(\"mesdiameter.diameter\")[0]\n",
        "radius_unit = result_table.field(\"mesdiameter.unit\")[0]\n",
        "print(f\"Radio de {star.value} es: {star_radius} {radius_unit} \")\n"
      ],
      "metadata": {
        "id": "-q6q0UdA_GSQ"
      },
      "execution_count": null,
      "outputs": []
    },
    {
      "cell_type": "code",
      "source": [
        "import numpy as np\n",
        "from scipy.integrate import solve_ivp\n",
        "import matplotlib.pyplot as plt\n",
        "\n",
        "print(f\"Analisis de {star.value} con radio {star_radius} {radius_unit} \")\n",
        "\n",
        "# Constantes físicas\n",
        "G = 6.67430e-11  # Constante gravitacional [m^3 kg^-1 s^-2]\n",
        "k = 1.380649e-23  # Constante de Boltzmann [J K^-1]\n",
        "m_H = 1.6735575e-27  # Masa del hidrógeno [kg]\n",
        "a = 7.564e-16  # Constante de radiación [J m^-3 K^-4]\n",
        "c = 3e8  # Velocidad de la luz [m/s]\n",
        "\n",
        "# Parámetros iniciales\n",
        "rho_c = 1.5e5  # Densidad central [kg/m^3]\n",
        "T_c = 1e7  # Temperatura central [K]\n",
        "R_solar = 6.96e8  # Radio solar [m]\n",
        "\n",
        "# Función para calcular kappa (opacidad)\n",
        "def calculate_kappa(T, rho):\n",
        "    # Modelo más sofisticado para la opacidad usando Kramers' law como ejemplo\n",
        "    # kappa = k_0 * rho * T^{-3.5}, donde k_0 es una constante de ajuste\n",
        "    k_0 = 4.34e21  # Constante típica para opacidad en material estelar\n",
        "    return k_0 * rho * T**-3.5\n",
        "\n",
        "# Ecuaciones diferenciales acopladas\n",
        "def stellar_structure(r, y):\n",
        "    M, P, L, T = y\n",
        "    if r == 0:  # Evitar división por cero\n",
        "        rho = rho_c\n",
        "    else:\n",
        "        rho = P / (k * T / (2 * m_H))  # Gas ideal\n",
        "    kappa = calculate_kappa(T, rho)  # Calcula la opacidad\n",
        "    dM_dr = 4 * np.pi * r**2 * rho\n",
        "    dP_dr = -G * M * rho / r**2 if r > 0 else 0\n",
        "    dL_dr = 4 * np.pi * r**2 * rho * 1e-8  # Aproximación para ε\n",
        "    dT_dr = -3 * kappa * rho * L / (16 * np.pi * a * c * T**3 * r**2) if r > 0 else 0\n",
        "    return [dM_dr, dP_dr, dL_dr, dT_dr]\n",
        "\n",
        "# Condiciones iniciales\n",
        "y0 = [0, 1e17, 0, T_c]  # [M_r, P, L_r, T]\n",
        "\n",
        "# Integra desde r=0 hasta r=R\n",
        "r_span = [1e-3, star_radius * 1000]\n",
        "sol = solve_ivp(stellar_structure, r_span, y0, method='RK45', max_step=1e7)\n",
        "\n",
        "# Resultados\n",
        "r = sol.t\n",
        "M, P, L, T = sol.y\n",
        "\n",
        "# Función para interpolar resultados en un radio específico\n",
        "def get_values_at_radius(radius):\n",
        "    from scipy.interpolate import interp1d\n",
        "    M_interp = interp1d(r, M, kind='linear', fill_value='extrapolate')\n",
        "    P_interp = interp1d(r, P, kind='linear', fill_value='extrapolate')\n",
        "    L_interp = interp1d(r, L, kind='linear', fill_value='extrapolate')\n",
        "    T_interp = interp1d(r, T, kind='linear', fill_value='extrapolate')\n",
        "    return {\n",
        "        'Masa (kg)': M_interp(radius),\n",
        "        'Presión (Pa)': P_interp(radius),\n",
        "        'Luminosidad (W)': L_interp(radius),\n",
        "        'Temperatura (K)': T_interp(radius)\n",
        "    }\n",
        "\n",
        "# Ejemplo: Obtener valores para un radio específico\n",
        "radio_deseado = star_radius * 1000  # Cambia este valor según sea necesario\n",
        "resultados = get_values_at_radius(radio_deseado)\n",
        "\n",
        "# Imprimir resultados\n",
        "print(f\"Resultados para radio = {radio_deseado:.1e} m:\")\n",
        "for clave, valor in resultados.items():\n",
        "    print(f\"{clave}: {valor:.3e}\")\n",
        "\n",
        "# Graficar resultados\n",
        "plt.figure(figsize=(12, 8))\n",
        "plt.subplot(2, 2, 1)\n",
        "plt.plot(r, M, label=\"Masa\")\n",
        "plt.xlabel(\"Radio (m)\")\n",
        "plt.ylabel(\"Masa (kg)\")\n",
        "plt.legend()\n",
        "\n",
        "plt.subplot(2, 2, 2)\n",
        "plt.plot(r, P, label=\"Presión\")\n",
        "plt.xlabel(\"Radio (m)\")\n",
        "plt.ylabel(\"Presión (Pa)\")\n",
        "plt.legend()\n",
        "\n",
        "plt.subplot(2, 2, 3)\n",
        "plt.plot(r, L, label=\"Luminosidad\")\n",
        "plt.xlabel(\"Radio (m)\")\n",
        "plt.ylabel(\"Luminosidad (W)\")\n",
        "plt.legend()\n",
        "\n",
        "plt.subplot(2, 2, 4)\n",
        "plt.plot(r, T, label=\"Temperatura\")\n",
        "plt.xlabel(\"Radio (m)\")\n",
        "plt.ylabel(\"Temperatura (K)\")\n",
        "plt.legend()\n",
        "\n",
        "plt.tight_layout()\n",
        "plt.show()\n"
      ],
      "metadata": {
        "id": "hJ0W0HpsTAqh"
      },
      "execution_count": null,
      "outputs": []
    }
  ]
}